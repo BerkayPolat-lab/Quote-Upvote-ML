{
 "cells": [
  {
   "cell_type": "code",
   "execution_count": 29,
   "metadata": {},
   "outputs": [],
   "source": [
    "## Class Definitions\n",
    "\n",
    "class Quote:\n",
    "    def __init__(self, quote, category):\n",
    "        self.quote = quote\n",
    "        self.category = category\n",
    "        "
   ]
  },
  {
   "cell_type": "code",
   "execution_count": 30,
   "metadata": {},
   "outputs": [
    {
     "name": "stdout",
     "output_type": "stream",
     "text": [
      "                                                   quote  \\\n",
      "3835   Despite all my rageI am still just a rat in th...   \n",
      "3578   The most important experiences a man can have ...   \n",
      "17679  I can feel myself gently slipping away into a ...   \n",
      "31388  It is tempting to write the history of technol...   \n",
      "12801  He said he'd never remarry, because he'd never...   \n",
      "\n",
      "                                   author                        category  \\\n",
      "3835                         Billy Corgan  anger, cages, life, rage, rats   \n",
      "3578         Paulo Coelho, Eleven Minutes                         courage   \n",
      "17679  Rak Razam, Aya: A Shamanic Odyssey    spirituality, transformation   \n",
      "31388                      the microscope                    the airplane   \n",
      "12801        Alexandra Bracken, Passenger                       true-love   \n",
      "\n",
      "                processed_category  \n",
      "3835    anger cages life rage rats  \n",
      "3578                       courage  \n",
      "17679  spirituality transformation  \n",
      "31388                 the airplane  \n",
      "12801                    true-love  \n",
      "3240\n"
     ]
    }
   ],
   "source": [
    "import numpy as np\n",
    "import pandas as pd\n",
    "\n",
    "df = pd.read_csv('./data/reduced_quotes.csv')\n",
    "reduced_df = df.sample(frac=0.1, random_state=42)  # Keep 50% of the data\n",
    "reduced_df.to_csv('./data/reduced_reduced_quotes.csv', index=False)\n",
    "reduced_df = reduced_df.dropna()\n",
    "quotes = []\n",
    "\n",
    "reduced_df['processed_category'] = reduced_df['category'].apply(lambda x: ' '.join(str(x).split(', ')))\n",
    "\n",
    "print(reduced_df.head(5))\n",
    "\n",
    "for _, row in reduced_df.iterrows():\n",
    "    quotes.append(Quote(row['quote'], row['processed_category']))\n",
    "\n",
    "print(len(quotes))\n"
   ]
  },
  {
   "cell_type": "code",
   "execution_count": 31,
   "metadata": {},
   "outputs": [
    {
     "name": "stdout",
     "output_type": "stream",
     "text": [
      "3240\n",
      "2170\n",
      "I own my past, it hasn't been grande' But it's had some pretty great moments. I own my movements of now, it isn't what I've dreamt, but I'm closer than I was before.I own my future, it is going to test me, But I trust I have the strength to pull through. Life isn't what happens to us, but what we choose to become.\n",
      "experience gratitude growth inspiring journey lessons life pathway seek transformational truth\n"
     ]
    }
   ],
   "source": [
    "\n",
    "from sklearn.model_selection import train_test_split\n",
    "\n",
    "print(len(quotes))\n",
    "\n",
    "training, test = train_test_split(quotes, test_size=0.33, random_state=42, shuffle=True)\n",
    "\n",
    "print(len(training))\n",
    "\n",
    "x_train = [q.quote for q in training]\n",
    "y_train = [q.category for q in training]\n",
    "\n",
    "x_train = [\"\" if pd.isna(text) else str(text) for text in x_train]\n",
    "\n",
    "\n",
    "x_test = [q.quote for q in test]\n",
    "y_test = [q.category for q in test]\n",
    "\n",
    "print(x_test[0])\n",
    "print(y_test[0])\n"
   ]
  },
  {
   "cell_type": "code",
   "execution_count": 32,
   "metadata": {},
   "outputs": [],
   "source": [
    "from sklearn.feature_extraction.text import TfidfVectorizer\n",
    "\n",
    "tfidf_vectorizer = TfidfVectorizer()\n",
    "train_x_vectors = tfidf_vectorizer.fit_transform(x_train)"
   ]
  },
  {
   "cell_type": "code",
   "execution_count": 33,
   "metadata": {},
   "outputs": [
    {
     "name": "stdout",
     "output_type": "stream",
     "text": [
      "(2170, 9575)\n",
      "[[0. 0. 0. ... 0. 0. 0.]]\n",
      "['000' '10' '100' ... 'zone' 'zones' 'zoophilism']\n"
     ]
    }
   ],
   "source": [
    "print(train_x_vectors.shape)\n",
    "print(train_x_vectors[0].toarray())\n",
    "print(tfidf_vectorizer.get_feature_names_out())\n"
   ]
  },
  {
   "cell_type": "code",
   "execution_count": 38,
   "metadata": {},
   "outputs": [
    {
     "name": "stdout",
     "output_type": "stream",
     "text": [
      "(2170, 2170)\n"
     ]
    }
   ],
   "source": [
    "from sklearn.metrics.pairwise import cosine_similarity\n",
    "\n",
    "similarity_matrix = cosine_similarity(train_x_vectors, dense_output=False)\n",
    "\n",
    "print(similarity_matrix.shape)\n"
   ]
  },
  {
   "cell_type": "code",
   "execution_count": 55,
   "metadata": {},
   "outputs": [
    {
     "name": "stdout",
     "output_type": "stream",
     "text": [
      "Quote Index: 2\n",
      "Number of Recommendations: 4\n",
      "Similar Indices: [   2  423 1121 1458 1514]\n",
      "[\"Middle age is when you've met so many people that every new person you meet reminds you of someone else.\", 'Work for legal reform takes place only within the framework of the social form created by the last revolution.', \"To embrace the message of Christmas is to throw off my hedonistic rebellion and bow before the chafing reality that I can't save myself, and in that very act to be suddenly taken aback in that I've stumbled upon the very freedom I've longed for in the very place I'd least expected it.\", \"One of my biggest pet peeves is that I just don't like it when characters do things that are funny to the writer, but you don't know why they're doing it and it doesn't make any sense.\"]\n"
     ]
    }
   ],
   "source": [
    "## Recommending Similar Quotes\n",
    "\n",
    "def recommend_similar_quotes(quote_index, num_recommendations=4):\n",
    "    print(\"Quote Index:\", quote_index)\n",
    "    print(\"Number of Recommendations:\", num_recommendations)\n",
    "\n",
    "    similarity_row = similarity_matrix[quote_index].toarray().flatten()\n",
    "    similar_indices = np.argsort(similarity_row)[-num_recommendations - 1:][::-1]\n",
    "    print(\"Similar Indices:\", similar_indices)\n",
    "\n",
    "    similar_quotes = [quotes[i].quote for i in similar_indices if i != quote_index]\n",
    "    return similar_quotes\n",
    "\n",
    "print(recommend_similar_quotes(2))"
   ]
  },
  {
   "cell_type": "code",
   "execution_count": null,
   "metadata": {},
   "outputs": [],
   "source": [
    "## "
   ]
  },
  {
   "cell_type": "code",
   "execution_count": null,
   "metadata": {},
   "outputs": [],
   "source": []
  },
  {
   "cell_type": "code",
   "execution_count": null,
   "metadata": {},
   "outputs": [],
   "source": []
  }
 ],
 "metadata": {
  "kernelspec": {
   "display_name": "Python (myenv)",
   "language": "python",
   "name": "myenv"
  },
  "language_info": {
   "codemirror_mode": {
    "name": "ipython",
    "version": 3
   },
   "file_extension": ".py",
   "mimetype": "text/x-python",
   "name": "python",
   "nbconvert_exporter": "python",
   "pygments_lexer": "ipython3",
   "version": "3.9.6"
  }
 },
 "nbformat": 4,
 "nbformat_minor": 2
}
