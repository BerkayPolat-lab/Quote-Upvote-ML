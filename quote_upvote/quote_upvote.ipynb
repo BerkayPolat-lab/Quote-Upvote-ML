{
 "cells": [
  {
   "cell_type": "code",
   "execution_count": 1,
   "metadata": {},
   "outputs": [
    {
     "name": "stdout",
     "output_type": "stream",
     "text": [
      "                                                   quote  \\\n",
      "3835   Despite all my rageI am still just a rat in th...   \n",
      "3578   The most important experiences a man can have ...   \n",
      "17679  I can feel myself gently slipping away into a ...   \n",
      "31388  It is tempting to write the history of technol...   \n",
      "12801  He said he'd never remarry, because he'd never...   \n",
      "\n",
      "                                   author                        category  \\\n",
      "3835                         Billy Corgan  anger, cages, life, rage, rats   \n",
      "3578         Paulo Coelho, Eleven Minutes                         courage   \n",
      "17679  Rak Razam, Aya: A Shamanic Odyssey    spirituality, transformation   \n",
      "31388                      the microscope                    the airplane   \n",
      "12801        Alexandra Bracken, Passenger                       true-love   \n",
      "\n",
      "                processed_category  \n",
      "3835    anger cages life rage rats  \n",
      "3578                       courage  \n",
      "17679  spirituality transformation  \n",
      "31388                 the airplane  \n",
      "12801                    true-love  \n",
      "\n",
      "3240\n",
      "{'quote': 'Despite all my rageI am still just a rat in the cage.', 'author': 'Billy Corgan', 'category': 'anger cages life rage rats'}\n"
     ]
    }
   ],
   "source": [
    "import numpy as np\n",
    "import pandas as pd\n",
    "from models import Quote\n",
    "\n",
    "df = pd.read_csv('../data/reduced_quotes.csv')\n",
    "reduced_df = df.sample(frac=0.1, random_state=42)  # Keep 10% of the data\n",
    "reduced_df.to_csv('../data/reduced_reduced_quotes.csv', index=False)\n",
    "reduced_df = reduced_df.dropna()\n",
    "quotes = []\n",
    "\n",
    "reduced_df['processed_category'] = reduced_df['category'].apply(lambda x: ' '.join(str(x).split(', ')))\n",
    "\n",
    "print(reduced_df.head(5))\n",
    "\n",
    "for _, row in reduced_df.iterrows():\n",
    "    #quotes.append(row['quote'] row['author'], row['processed_category']))\n",
    "    quotes.append({'quote': row['quote'], 'author': row['author'], 'category': row['processed_category']})\n",
    "\n",
    "print()\n",
    "print(len(quotes))\n",
    "print(quotes[0])\n"
   ]
  },
  {
   "cell_type": "code",
   "execution_count": 4,
   "metadata": {},
   "outputs": [
    {
     "name": "stdout",
     "output_type": "stream",
     "text": [
      "3240\n",
      "{'quote': 'There is nothing meritorious but virtue and friendship.', 'author': 'Alexander Pope', 'category': 'friendship'}\n",
      "2170\n",
      "I own my past, it hasn't been grande' But it's had some pretty great moments. I own my movements of now, it isn't what I've dreamt, but I'm closer than I was before.I own my future, it is going to test me, But I trust I have the strength to pull through. Life isn't what happens to us, but what we choose to become.\n",
      "Nikki Rowe\n"
     ]
    }
   ],
   "source": [
    "\n",
    "from sklearn.model_selection import train_test_split\n",
    "\n",
    "print(len(quotes))\n",
    "\n",
    "training, test = train_test_split(quotes, test_size=0.33, random_state=42, shuffle=True)\n",
    "\n",
    "print(training[0])\n",
    "\n",
    "print(len(training))\n",
    "\n",
    "x_train = [q['quote'] for q in training]\n",
    "y_train = [q['author'] for q in training]\n",
    "\n",
    "x_train = [\"\" if pd.isna(text) else str(text) for text in x_train]\n",
    "\n",
    "\n",
    "x_test = [q['quote'] for q in test]\n",
    "y_test = [q['author'] for q in test]\n",
    "\n",
    "print(x_test[0])\n",
    "print(y_test[0])\n"
   ]
  },
  {
   "cell_type": "code",
   "execution_count": 5,
   "metadata": {},
   "outputs": [],
   "source": [
    "from sklearn.feature_extraction.text import TfidfVectorizer\n",
    "\n",
    "tfidf_vectorizer = TfidfVectorizer()\n",
    "train_x_vectors = tfidf_vectorizer.fit_transform(x_train)"
   ]
  },
  {
   "cell_type": "code",
   "execution_count": 6,
   "metadata": {},
   "outputs": [
    {
     "name": "stdout",
     "output_type": "stream",
     "text": [
      "(2170, 9574)\n",
      "[[0. 0. 0. ... 0. 0. 0.]]\n",
      "['000' '10' '100' ... 'zone' 'zones' 'zoophilism']\n"
     ]
    }
   ],
   "source": [
    "print(train_x_vectors.shape)\n",
    "print(train_x_vectors[0].toarray())\n",
    "print(tfidf_vectorizer.get_feature_names_out())\n"
   ]
  },
  {
   "cell_type": "code",
   "execution_count": 7,
   "metadata": {},
   "outputs": [
    {
     "name": "stdout",
     "output_type": "stream",
     "text": [
      "(2170, 2170)\n"
     ]
    }
   ],
   "source": [
    "from sklearn.metrics.pairwise import cosine_similarity\n",
    "\n",
    "similarity_matrix = cosine_similarity(train_x_vectors, dense_output=False)\n",
    "\n",
    "print(similarity_matrix.shape)\n"
   ]
  },
  {
   "cell_type": "code",
   "execution_count": 8,
   "metadata": {},
   "outputs": [],
   "source": [
    "import pickle\n",
    "\n",
    "# Assuming similarity_matrix is your computed matrix\n",
    "with open(\"similarity_matrix.pkl\", \"wb\") as f:\n",
    "    pickle.dump(similarity_matrix, f)\n"
   ]
  },
  {
   "cell_type": "code",
   "execution_count": 12,
   "metadata": {},
   "outputs": [
    {
     "name": "stdout",
     "output_type": "stream",
     "text": [
      "{'quote': 'Despite all my rageI am still just a rat in the cage.', 'author': 'Billy Corgan', 'category': 'anger cages life rage rats'}\n",
      "{'quote': 'The most important experiences a man can have are those that take him to the very limit; that is the only way we learn, because it requires all our courage.', 'author': 'Paulo Coelho, Eleven Minutes', 'category': 'courage'}\n"
     ]
    }
   ],
   "source": [
    "import pickle\n",
    "\n",
    "# Save the quotes list to a file\n",
    "with open(\"quotes.pkl\", \"wb\") as f:\n",
    "    pickle.dump(quotes, f)\n",
    "    print(quotes[0]) \n"
   ]
  },
  {
   "cell_type": "code",
   "execution_count": 21,
   "metadata": {},
   "outputs": [],
   "source": [
    "## Recommending Similar Quotes\n",
    "\n",
    "#def recommend_similar_quotes(quote_index):\n",
    "#    print(\"Quote Index:\", quote_index)\n",
    "#\n",
    "#    similarity_row = similarity_matrix[quote_index].toarray().flatten()\n",
    "#    similar_indices = np.argsort(similarity_row)[::-1] ## indexing: [start:stop:step]\n",
    "#\n",
    "#    similar_quote = [quotes[i].quote for i in similar_indices if i != quote_index]\n",
    "#    similar_quote_author = [quotes[i].author for i in similar_indices if i != quote_index]\n",
    "#    returned_object = {'quote': similar_quote[0], 'author': similar_quote_author[0]}\n",
    "#    return returned_object"
   ]
  },
  {
   "cell_type": "code",
   "execution_count": 20,
   "metadata": {},
   "outputs": [],
   "source": [
    "import pickle5 as pickle\n",
    "\n",
    "#liked_quote_index = 8\n",
    "\n",
    "#with open(\"result.pkl\", \"wb\") as f:\n",
    "#    pickle.dump(recommend_similar_quotes(liked_quote_index), f)\n",
    "\n",
    "#with open(\"result.pkl\", \"rb\") as f:\n",
    "#    loaded_result = pickle.load(f)\n",
    "#    print(loaded_result)  # Will print similar quote\n",
    "\n"
   ]
  }
 ],
 "metadata": {
  "kernelspec": {
   "display_name": "Python (myenv)",
   "language": "python",
   "name": "myenv"
  },
  "language_info": {
   "codemirror_mode": {
    "name": "ipython",
    "version": 3
   },
   "file_extension": ".py",
   "mimetype": "text/x-python",
   "name": "python",
   "nbconvert_exporter": "python",
   "pygments_lexer": "ipython3",
   "version": "3.9.6"
  }
 },
 "nbformat": 4,
 "nbformat_minor": 2
}
